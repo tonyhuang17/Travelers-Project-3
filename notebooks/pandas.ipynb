{
 "cells": [
  {
   "cell_type": "code",
   "execution_count": 2,
   "metadata": {},
   "outputs": [
    {
     "name": "stdout",
     "output_type": "stream",
     "text": [
      "Defaulting to user installation because normal site-packages is not writeable\n",
      "Requirement already satisfied: pandas in c:\\users\\wasadmin\\appdata\\roaming\\python\\python312\\site-packages (2.2.2)\n",
      "Requirement already satisfied: numpy>=1.26.0 in c:\\users\\wasadmin\\appdata\\roaming\\python\\python312\\site-packages (from pandas) (1.26.4)\n",
      "Requirement already satisfied: python-dateutil>=2.8.2 in c:\\users\\wasadmin\\appdata\\roaming\\python\\python312\\site-packages (from pandas) (2.9.0.post0)\n",
      "Requirement already satisfied: pytz>=2020.1 in c:\\users\\wasadmin\\appdata\\roaming\\python\\python312\\site-packages (from pandas) (2024.1)\n",
      "Requirement already satisfied: tzdata>=2022.7 in c:\\users\\wasadmin\\appdata\\roaming\\python\\python312\\site-packages (from pandas) (2024.1)\n",
      "Requirement already satisfied: six>=1.5 in c:\\users\\wasadmin\\appdata\\roaming\\python\\python312\\site-packages (from python-dateutil>=2.8.2->pandas) (1.16.0)\n"
     ]
    }
   ],
   "source": [
    "! pip install pandas"
   ]
  },
  {
   "cell_type": "code",
   "execution_count": 12,
   "metadata": {},
   "outputs": [
    {
     "name": "stdout",
     "output_type": "stream",
     "text": [
      "             timestamp  unit_id           unit_type empire_or_resistance  location_x  location_y  destination_x  destination_y    homeworld\n",
      "0  2025-03-17 16:23:15        1               at-st           resistance           9           3              4             10  Glee Anselm\n",
      "1  2025-03-17 16:23:14        2               at-st           resistance          10           8              5              5     Kashyyyk\n",
      "2  2025-03-17 16:23:13        3  resistance_soldier           resistance           2           9              2             10    Chandrila\n",
      "3  2025-03-17 16:23:12        4        stormtrooper               empire           8           2              6              1  Aleen Minor\n",
      "4  2025-03-17 16:23:11        5             unknown           resistance           6           8              3              3      Iktotch\n"
     ]
    }
   ],
   "source": [
    "import pandas as pd\n",
    "import numpy as np\n",
    "\n",
    "data = pd.read_csv(\"troop_movements.csv\")\n",
    "pd.set_option('display.width', 1000)\n",
    "\n",
    "print(data.head())"
   ]
  },
  {
   "cell_type": "code",
   "execution_count": 14,
   "metadata": {},
   "outputs": [],
   "source": [
    "df = pd.DataFrame(data)"
   ]
  },
  {
   "cell_type": "code",
   "execution_count": 17,
   "metadata": {},
   "outputs": [
    {
     "name": "stdout",
     "output_type": "stream",
     "text": [
      "empire_or_resistance\n",
      "empire        502\n",
      "resistance    498\n",
      "Name: count, dtype: int64\n"
     ]
    }
   ],
   "source": [
    "value_counts_empire = df['empire_or_resistance'].value_counts()\n",
    "print(value_counts_empire)"
   ]
  },
  {
   "cell_type": "code",
   "execution_count": 19,
   "metadata": {},
   "outputs": [
    {
     "name": "stdout",
     "output_type": "stream",
     "text": [
      "homeworld\n",
      "Dagobah         35\n",
      "Aleen Minor     35\n",
      "Rodia           32\n",
      "Toydaria        32\n",
      "Tatooine        31\n",
      "Cerea           30\n",
      "Tholoth         29\n",
      "Zolan           29\n",
      "Glee Anselm     29\n",
      "Bestine IV      28\n",
      "Eriadu          28\n",
      "Trandosha       27\n",
      "Shili           27\n",
      "Mon Cala        27\n",
      "Malastare       26\n",
      "Kalee           24\n",
      "Iktotch         24\n",
      "Dorin           24\n",
      "Tund            24\n",
      "Troiken         23\n",
      "Ojom            23\n",
      "Concord Dawn    23\n",
      "Sullust         23\n",
      "Dathomir        22\n",
      "Quermia         22\n",
      "Serenno         22\n",
      "Ryloth          22\n",
      "Kashyyyk        22\n",
      "Socorro         21\n",
      "Skako           21\n",
      "Champala        21\n",
      "Alderaan        21\n",
      "Umbara          21\n",
      "Haruun Kal      20\n",
      "Naboo           19\n",
      "Corellia        18\n",
      "Stewjon         17\n",
      "Chandrila       17\n",
      "Vulpter         17\n",
      "Mirial          16\n",
      "Iridonia        15\n",
      "Muunilinst      13\n",
      "Name: count, dtype: int64\n"
     ]
    }
   ],
   "source": [
    "value_counts_homeworld = df['homeworld'].value_counts()\n",
    "print(value_counts_homeworld)"
   ]
  },
  {
   "cell_type": "code",
   "execution_count": 20,
   "metadata": {},
   "outputs": [
    {
     "name": "stdout",
     "output_type": "stream",
     "text": [
      "unit_type\n",
      "resistance_soldier    134\n",
      "at-st                 129\n",
      "tie_silencer          128\n",
      "at-at                 127\n",
      "stormtrooper          124\n",
      "unknown               123\n",
      "tie_fighter           120\n",
      "x-wing                115\n",
      "Name: count, dtype: int64\n"
     ]
    }
   ],
   "source": [
    "value_count_type = df['unit_type'].value_counts()\n",
    "print(value_count_type)"
   ]
  },
  {
   "cell_type": "code",
   "execution_count": 24,
   "metadata": {},
   "outputs": [],
   "source": [
    "df['is_resistance'] = df['empire_or_resistance'] == 'resistance'"
   ]
  },
  {
   "cell_type": "code",
   "execution_count": 25,
   "metadata": {},
   "outputs": [
    {
     "name": "stdout",
     "output_type": "stream",
     "text": [
      "             timestamp  unit_id           unit_type empire_or_resistance  location_x  location_y  destination_x  destination_y    homeworld  is_resistance\n",
      "0  2025-03-17 16:23:15        1               at-st           resistance           9           3              4             10  Glee Anselm           True\n",
      "1  2025-03-17 16:23:14        2               at-st           resistance          10           8              5              5     Kashyyyk           True\n",
      "2  2025-03-17 16:23:13        3  resistance_soldier           resistance           2           9              2             10    Chandrila           True\n",
      "3  2025-03-17 16:23:12        4        stormtrooper               empire           8           2              6              1  Aleen Minor          False\n",
      "4  2025-03-17 16:23:11        5             unknown           resistance           6           8              3              3      Iktotch           True\n"
     ]
    }
   ],
   "source": [
    "print(df.head())"
   ]
  },
  {
   "cell_type": "code",
   "execution_count": null,
   "metadata": {},
   "outputs": [],
   "source": []
  }
 ],
 "metadata": {
  "kernelspec": {
   "display_name": "Python 3",
   "language": "python",
   "name": "python3"
  },
  "language_info": {
   "codemirror_mode": {
    "name": "ipython",
    "version": 3
   },
   "file_extension": ".py",
   "mimetype": "text/x-python",
   "name": "python",
   "nbconvert_exporter": "python",
   "pygments_lexer": "ipython3",
   "version": "3.12.3"
  }
 },
 "nbformat": 4,
 "nbformat_minor": 2
}
